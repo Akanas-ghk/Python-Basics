{
  "nbformat": 4,
  "nbformat_minor": 0,
  "metadata": {
    "colab": {
      "provenance": []
    },
    "kernelspec": {
      "name": "python3",
      "display_name": "Python 3"
    },
    "language_info": {
      "name": "python"
    }
  },
  "cells": [
    {
      "cell_type": "markdown",
      "source": [
        "# **PYTHON BASICS ASSIGNMENT**"
      ],
      "metadata": {
        "id": "xWwBnfU_WyqK"
      }
    },
    {
      "cell_type": "markdown",
      "source": [
        "# **Q1. What is Python, and why is it popular?**"
      ],
      "metadata": {
        "id": "xJw1oL3HX7X1"
      }
    },
    {
      "cell_type": "markdown",
      "source": [
        "Python is a high-level, interpreted programming language known for its simplicity and readability. It is popular due to its versatility, extensive libraries, and strong community support. Python is widely used in web development, data science, AI, automation, and more, making it a preferred choice for beginners and professionals alike."
      ],
      "metadata": {
        "id": "O3nWbB8ZYL_V"
      }
    },
    {
      "cell_type": "markdown",
      "source": [
        "# **Q2. What is an interpreter in Python**"
      ],
      "metadata": {
        "id": "v9yfz7VKYQCV"
      }
    },
    {
      "cell_type": "markdown",
      "source": [
        "An interpreter in Python is a program that executes Python code line by line, converting it into machine-readable instructions. Unlike compiled languages, Python doesn't require a separate compilation step. The interpreter processes scripts dynamically, making debugging easier and enabling cross-platform compatibility. Common Python interpreters include CPython, PyPy, and Jython."
      ],
      "metadata": {
        "id": "rQEvKb4JYd4P"
      }
    },
    {
      "cell_type": "markdown",
      "source": [
        "# **Q3.What are pre-defined keywords in Python**"
      ],
      "metadata": {
        "id": "-WeXFfL-nUIu"
      }
    },
    {
      "cell_type": "markdown",
      "source": [
        "Pre-defined keywords in Python are reserved words that have special meanings and cannot be used as identifiers (variable, function, or class names). These keywords define Python’s syntax and structure.\n",
        "\n",
        "Examples of Python Keywords:       \n",
        "**Control Flow: ** if, else, elif, for, while, break, continue, pass        \n",
        "**Function & Class Definition : **def, return, lambda, class   \n",
        "**Exception Handling:** try, except, finally, raise, assert   \n",
        "**Logical & Boolean Operations:** and, or, not, True, False, None  \n",
        "**Variable Scope & Management**: global, nonlocal, del   \n",
        "**Importing Modules**: import, from, as    \n",
        "**Object-Oriented Programming**: self, super, is, in   \n",
        "**Miscellaneous**: yield, with, async, await       "
      ],
      "metadata": {
        "id": "N3MlUPkZ2DSO"
      }
    },
    {
      "cell_type": "markdown",
      "source": [
        "# **Q4.Can keywords be used as variable names**"
      ],
      "metadata": {
        "id": "yDJkQv6V3ekH"
      }
    },
    {
      "cell_type": "markdown",
      "source": [
        "No, keywords cannot be used as variable names in Python. Since keywords have special meanings in the language, using them as variable names will result in a SyntaxError."
      ],
      "metadata": {
        "id": "5SY2WiriE_Up"
      }
    },
    {
      "cell_type": "markdown",
      "source": [
        "# **Q5.What is mutability in Python**"
      ],
      "metadata": {
        "id": "DTkyUQzmFPAs"
      }
    },
    {
      "cell_type": "markdown",
      "source": [
        "Mutability in Python refers to whether an object’s state (its values) can be changed after creation.\n",
        "\n",
        "Mutable Objects: Can be modified after creation.\n",
        "Immutable Objects: Cannot be changed once created."
      ],
      "metadata": {
        "id": "gZ5SWLncFj5E"
      }
    },
    {
      "cell_type": "markdown",
      "source": [
        "# **Q6.Why are lists mutable, but tuples are immutable**"
      ],
      "metadata": {
        "id": "-UFPJV3bFsaq"
      }
    },
    {
      "cell_type": "markdown",
      "source": [
        "he difference in mutability between lists and tuples is due to their internal memory management and intended use cases.\n",
        "\n",
        "## 1.** Memory Allocation & Storage**\n",
        "Lists (Mutable)\n",
        "Stored as a dynamic array, allowing elements to be added, modified, or removed.\n",
        "Each list item is a reference to an object, which can be reassigned.    \n",
        "Tuples (Immutable)\n",
        "Stored in a fixed memory block, making them faster and more memory-efficient.\n",
        "The references inside a tuple cannot be changed after creation.      \n",
        "# **Use Case & Design Philosophy**\n",
        "Lists: Used when frequent modifications (adding/removing items) are required.   \n",
        "Tuples: Used for fixed collections of data, ensuring stability and preventing accidental modifications.                  \n",
        "# 3. Hashability & Dictionary Keys\n",
        "Tuples are immutable, making them hashable, so they can be used as dictionary keys     "
      ],
      "metadata": {
        "id": "MxCetpvSF21x"
      }
    },
    {
      "cell_type": "markdown",
      "source": [
        "# **Q7.What is the difference between “==” and “is” operators in Python**"
      ],
      "metadata": {
        "id": "BogmiyAxHjnQ"
      }
    },
    {
      "cell_type": "markdown",
      "source": [
        "Difference Between == and is Operators in Python        \n",
        "Both == and is are comparison operators, but they serve different purposes:\n",
        "\n",
        "Operator\tPurpose\tCompares\tExample\n",
        "==\tEquality\tValues\ta == b checks if values are the same\n",
        "is\tIdentity\tMemory location (object identity)\ta is b checks if both refer to the same object in memory    \n",
        "1**. == (Equality Operator)**\n",
        "Checks if values of two objects are equal.\n",
        "Does not check if they are stored at the same memory location.    \n",
        "2. **is (Identity Operator)**\n",
        "Checks if both variables refer to the same object in memory.\n",
        "Used to compare immutable objects (like None, True, False) efficiently."
      ],
      "metadata": {
        "id": "BA4AlU_oH_Ex"
      }
    },
    {
      "cell_type": "markdown",
      "source": [
        "# **Q8.What are logical operators in Python**"
      ],
      "metadata": {
        "id": "l4ce86OQP2S6"
      }
    },
    {
      "cell_type": "markdown",
      "source": [
        "Logical operators in Python are used to perform boolean logic operations.     The three main logical operators are:\n",
        "\n",
        "and – Returns True if both conditions are True.       \n",
        "or – Returns True if at least one condition is True.    \n",
        "not – Reverses the boolean value."
      ],
      "metadata": {
        "id": "XdCMH9XnQlrt"
      }
    },
    {
      "cell_type": "markdown",
      "source": [
        "# **Q9.What is type casting in Python**"
      ],
      "metadata": {
        "id": "E-oJRC9VQ8vv"
      }
    },
    {
      "cell_type": "markdown",
      "source": [
        "Type casting in Python is converting one data type into another. It can be explicit (manual) using functions like int(), float(), str(), list(), or implicit (automatic) by Python during operations."
      ],
      "metadata": {
        "id": "WoI7wT6nROZN"
      }
    },
    {
      "cell_type": "markdown",
      "source": [
        "# **Q10.What is the difference between implicit and explicit type casting**"
      ],
      "metadata": {
        "id": "CO9JEsmIRx82"
      }
    },
    {
      "cell_type": "markdown",
      "source": [
        "In Python, implicit type casting occurs automatically during operations, converting data types without explicit instructions. For example, adding an integer and a float results in a float. Explicit type casting requires manual conversion using functions like int(), float(), or str(). For instance, converting a string to an integer using int('123').\n"
      ],
      "metadata": {
        "id": "s4TRSh0ASldH"
      }
    },
    {
      "cell_type": "markdown",
      "source": [
        "# **Q11.What is the purpose of conditional statements in Python**"
      ],
      "metadata": {
        "id": "OZqk-mYQW7or"
      }
    },
    {
      "cell_type": "markdown",
      "source": [
        "In Python, conditional statements like if, elif, and else control the flow of a program by executing specific code blocks based on whether a condition is true or false. This enables decision-making processes within the code, allowing for different outcomes and behaviors depending on varying inputs or situations."
      ],
      "metadata": {
        "id": "cvVr5nuLXLWL"
      }
    },
    {
      "cell_type": "markdown",
      "source": [
        "# **Q12. How does the elif statement work**"
      ],
      "metadata": {
        "id": "tp-gzilGUM2p"
      }
    },
    {
      "cell_type": "markdown",
      "source": [
        "In Python, the elif statement, short for \"else if,\" allows for multiple conditions to be evaluated sequentially after an initial if. If the preceding if or elif conditions are false, the next elif condition is checked. This structure enables the execution of the first true condition's code block, facilitating complex decision-making processes."
      ],
      "metadata": {
        "id": "rkJExHwrUbe9"
      }
    },
    {
      "cell_type": "markdown",
      "source": [
        "# **Q13.What is the difference between for and while loops**"
      ],
      "metadata": {
        "id": "U6Ok27uTUqQf"
      }
    },
    {
      "cell_type": "markdown",
      "source": [
        "In Python, for loops iterate over a predefined sequence, such as a list or range, executing a block of code for each element. In contrast, while loops continue executing as long as a specified condition remains true, making them suitable for scenarios where the number of iterations isn't predetermined."
      ],
      "metadata": {
        "id": "MoTn57HeVG_Q"
      }
    },
    {
      "cell_type": "markdown",
      "source": [
        "# **Q14.Describe a scenario where a while loop is more suitable than a for loop**"
      ],
      "metadata": {
        "id": "4RYSs7ysV3EY"
      }
    },
    {
      "cell_type": "markdown",
      "source": [
        "In Python, a while loop is more suitable than a for loop when the number of iterations is not predetermined and depends on a dynamic condition. For example, continuously prompting a user for input until they provide valid data:"
      ],
      "metadata": {
        "id": "6Cn2_mzAX1W2"
      }
    },
    {
      "cell_type": "markdown",
      "source": [
        "# **PRACTICAL QUESTION**"
      ],
      "metadata": {
        "id": "wnU88vQJYAqp"
      }
    },
    {
      "cell_type": "markdown",
      "source": [
        "# **Q1.Write a Python program to print \"Hello, World!_**"
      ],
      "metadata": {
        "id": "L6fPVAwbYLw5"
      }
    },
    {
      "cell_type": "code",
      "source": [
        "print(\"Hello, World!\")"
      ],
      "metadata": {
        "colab": {
          "base_uri": "https://localhost:8080/"
        },
        "id": "fh7vNobZYftA",
        "outputId": "14cffc56-4a32-4da0-e213-0e776e6a2fec"
      },
      "execution_count": null,
      "outputs": [
        {
          "output_type": "stream",
          "name": "stdout",
          "text": [
            "Hello, World!\n"
          ]
        }
      ]
    },
    {
      "cell_type": "markdown",
      "source": [
        "# **Q2.Write a Python program that displays your name and age**"
      ],
      "metadata": {
        "id": "abutBzIvYw_2"
      }
    },
    {
      "cell_type": "code",
      "source": [
        "# Define variables for name and age\n",
        "name = \"Your Name\"\n",
        "age = 25\n",
        "\n",
        "# Display the name and age\n",
        "print(f\"My name is {name}. I am {age} years old.\")\n"
      ],
      "metadata": {
        "colab": {
          "base_uri": "https://localhost:8080/"
        },
        "id": "bPK8QZdvY7Ox",
        "outputId": "c0c98fe3-e071-45f4-ba32-0e415f912f46"
      },
      "execution_count": null,
      "outputs": [
        {
          "output_type": "stream",
          "name": "stdout",
          "text": [
            "My name is Your Name. I am 25 years old.\n"
          ]
        }
      ]
    },
    {
      "cell_type": "markdown",
      "source": [
        "# **Q3. Write code to print all the pre-defined keywords in Python using the keyword library**"
      ],
      "metadata": {
        "id": "dg07Cl2qZgVX"
      }
    },
    {
      "cell_type": "code",
      "source": [
        "import keyword\n",
        "\n",
        "# Display the list of Python keywords\n",
        "print(\"Python keywords:\")\n",
        "for kw in keyword.kwlist:\n",
        "    print(kw)\n"
      ],
      "metadata": {
        "colab": {
          "base_uri": "https://localhost:8080/"
        },
        "id": "quZvW1wtZ1BK",
        "outputId": "990e491e-2c26-4b39-c807-0d7f5668c213"
      },
      "execution_count": null,
      "outputs": [
        {
          "output_type": "stream",
          "name": "stdout",
          "text": [
            "Python keywords:\n",
            "False\n",
            "None\n",
            "True\n",
            "and\n",
            "as\n",
            "assert\n",
            "async\n",
            "await\n",
            "break\n",
            "class\n",
            "continue\n",
            "def\n",
            "del\n",
            "elif\n",
            "else\n",
            "except\n",
            "finally\n",
            "for\n",
            "from\n",
            "global\n",
            "if\n",
            "import\n",
            "in\n",
            "is\n",
            "lambda\n",
            "nonlocal\n",
            "not\n",
            "or\n",
            "pass\n",
            "raise\n",
            "return\n",
            "try\n",
            "while\n",
            "with\n",
            "yield\n"
          ]
        }
      ]
    },
    {
      "cell_type": "markdown",
      "source": [
        "# **Q4.Write a program that checks if a given word is a Python keyword**"
      ],
      "metadata": {
        "id": "wJBQG68eZ9Sk"
      }
    },
    {
      "cell_type": "code",
      "source": [
        "import keyword\n",
        "\n",
        "def check_keyword(word):\n",
        "    if keyword.iskeyword(word):\n",
        "        print(f\"'{word}' is a Python keyword.\")\n",
        "    else:\n",
        "        print(f\"'{word}' is not a Python keyword.\")\n",
        "\n",
        "# Example usage:\n",
        "check_keyword('while')   # Output: 'while' is a Python keyword.\n",
        "check_keyword('hello')   # Output: 'hello' is not a Python keyword.\n"
      ],
      "metadata": {
        "colab": {
          "base_uri": "https://localhost:8080/"
        },
        "id": "PdnYx6OdaW0J",
        "outputId": "1b559e23-e0e0-4f96-bd36-93ef0943e061"
      },
      "execution_count": null,
      "outputs": [
        {
          "output_type": "stream",
          "name": "stdout",
          "text": [
            "'while' is a Python keyword.\n",
            "'hello' is not a Python keyword.\n"
          ]
        }
      ]
    },
    {
      "cell_type": "markdown",
      "source": [
        "# **Q5.Create a list and tuple in Python, and demonstrate how attempting to change an element works differently for each**"
      ],
      "metadata": {
        "id": "XwIqUFJeagCK"
      }
    },
    {
      "cell_type": "code",
      "source": [
        "# Creating a list\n",
        "my_list = [1, 2, 3]\n",
        "print(\"Original list:\", my_list)\n",
        "\n",
        "# Modifying an element in the list\n",
        "my_list[0] = 10\n",
        "print(\"Modified list:\", my_list)\n",
        "\n",
        "# Creating a tuple\n",
        "my_tuple = (1, 2, 3)\n",
        "print(\"\\nOriginal tuple:\", my_tuple)\n",
        "\n",
        "# Attempting to modify an element in the tuple\n",
        "try:\n",
        "    my_tuple[0] = 10\n",
        "except TypeError as e:\n",
        "    print(\"Error:\", e)\n"
      ],
      "metadata": {
        "colab": {
          "base_uri": "https://localhost:8080/"
        },
        "id": "-PEN87gBbF1_",
        "outputId": "bc7b9f19-a1ee-4448-d1f8-a7918def4444"
      },
      "execution_count": null,
      "outputs": [
        {
          "output_type": "stream",
          "name": "stdout",
          "text": [
            "Original list: [1, 2, 3]\n",
            "Modified list: [10, 2, 3]\n",
            "\n",
            "Original tuple: (1, 2, 3)\n",
            "Error: 'tuple' object does not support item assignment\n"
          ]
        }
      ]
    },
    {
      "cell_type": "markdown",
      "source": [
        "# **Q6.Write a function to demonstrate the behavior of mutable and immutable arguments**"
      ],
      "metadata": {
        "id": "1M7u3OnqbO3O"
      }
    },
    {
      "cell_type": "code",
      "source": [
        "def modify_immutable(x):\n",
        "    print(f\"Initial id(x): {id(x)}, value: {x}\")\n",
        "    x += 1\n",
        "    print(f\"After modification id(x): {id(x)}, value: {x}\")\n",
        "\n",
        "def modify_mutable(lst):\n",
        "    print(f\"Initial id(lst): {id(lst)}, value: {lst}\")\n",
        "    lst.append(4)\n",
        "    print(f\"After modification id(lst): {id(lst)}, value: {lst}\")\n",
        "\n",
        "# Immutable argument\n",
        "a = 10\n",
        "print(f\"Before function call id(a): {id(a)}, value: {a}\")\n",
        "modify_immutable(a)\n",
        "print(f\"After function call id(a): {id(a)}, value: {a}\\n\")\n",
        "\n",
        "# Mutable argument\n",
        "b = [1, 2, 3]\n",
        "print(f\"Before function call id(b): {id(b)}, value: {b}\")\n",
        "modify_mutable(b)\n",
        "print(f\"After function call id(b): {id(b)}, value: {b}\")\n"
      ],
      "metadata": {
        "colab": {
          "base_uri": "https://localhost:8080/"
        },
        "id": "pYr3Hntzb9g7",
        "outputId": "8df95bb1-dcef-40e0-e3a1-4564ad209861"
      },
      "execution_count": null,
      "outputs": [
        {
          "output_type": "stream",
          "name": "stdout",
          "text": [
            "Before function call id(a): 10751144, value: 10\n",
            "Initial id(x): 10751144, value: 10\n",
            "After modification id(x): 10751176, value: 11\n",
            "After function call id(a): 10751144, value: 10\n",
            "\n",
            "Before function call id(b): 133461461356928, value: [1, 2, 3]\n",
            "Initial id(lst): 133461461356928, value: [1, 2, 3]\n",
            "After modification id(lst): 133461461356928, value: [1, 2, 3, 4]\n",
            "After function call id(b): 133461461356928, value: [1, 2, 3, 4]\n"
          ]
        }
      ]
    },
    {
      "cell_type": "markdown",
      "source": [
        "# **Q7.Write a program to demonstrate the use of logical operators**"
      ],
      "metadata": {
        "id": "6q85IBprcf_M"
      }
    },
    {
      "cell_type": "code",
      "source": [
        "def logical_operators_demo(a, b):\n",
        "    print(f\"a = {a}, b = {b}\\n\")\n",
        "\n",
        "    # Logical AND\n",
        "    if a > 0 and b > 0:\n",
        "        print(\"Both a and b are positive numbers.\")\n",
        "    else:\n",
        "        print(\"At least one of a or b is not a positive number.\")\n",
        "\n",
        "    # Logical OR\n",
        "    if a > 0 or b > 0:\n",
        "        print(\"At least one of a or b is a positive number.\")\n",
        "    else:\n",
        "        print(\"Neither a nor b is a positive number.\")\n",
        "\n",
        "    # Logical NOT\n",
        "    if not (a > 0):\n",
        "        print(\"a is not a positive number.\")\n",
        "    else:\n",
        "        print(\"a is a positive number.\")\n",
        "\n",
        "# Example usage\n",
        "logical_operators_demo(5, -3)\n"
      ],
      "metadata": {
        "colab": {
          "base_uri": "https://localhost:8080/"
        },
        "id": "tnIY53b4c8XL",
        "outputId": "618942cc-4184-44b3-9161-12a5f7948e89"
      },
      "execution_count": null,
      "outputs": [
        {
          "output_type": "stream",
          "name": "stdout",
          "text": [
            "a = 5, b = -3\n",
            "\n",
            "At least one of a or b is not a positive number.\n",
            "At least one of a or b is a positive number.\n",
            "a is a positive number.\n"
          ]
        }
      ]
    },
    {
      "cell_type": "markdown",
      "source": [
        "# **Q8. Write a Python program to convert user input from string to integer, float, and boolean types**"
      ],
      "metadata": {
        "id": "4QjvlzuBdUC0"
      }
    },
    {
      "cell_type": "code",
      "source": [
        "# Converting a string into an integer\n",
        "number_str = \"10\"\n",
        "number_int = int(number_str)\n",
        "print(number_int)  # Output: 10\n",
        "\n",
        "# Converting a string into a float\n",
        "decimal_str = \"10.5\"\n",
        "decimal_float = float(decimal_str)\n",
        "print(decimal_float)  # Output: 10.5\n",
        "my_string = \"True\"\n",
        "\n",
        "# Convert string value to boolean value\n",
        "my_boolean = bool(my_string)\n",
        "\n",
        "# Check the boolean value\n",
        "if my_boolean:\n",
        "    print(\"The boolean value is True\")\n",
        "else:\n",
        "    print(\"The boolean value is False\")"
      ],
      "metadata": {
        "colab": {
          "base_uri": "https://localhost:8080/"
        },
        "id": "4UiJHF7IqGwq",
        "outputId": "542257d9-fdc5-464a-e975-904ec8000569"
      },
      "execution_count": null,
      "outputs": [
        {
          "output_type": "stream",
          "name": "stdout",
          "text": [
            "10\n",
            "10.5\n",
            "The boolean value is True\n"
          ]
        }
      ]
    },
    {
      "cell_type": "markdown",
      "source": [
        "# **Q9.Write code to demonstrate type casting with list elements**"
      ],
      "metadata": {
        "id": "egM8wj91qyh8"
      }
    },
    {
      "cell_type": "code",
      "source": [
        "# Sample list with mixed data types as strings\n",
        "data_list = [\"10\", \"20.5\", \"True\", \"False\", \"30\"]\n",
        "\n",
        "# Type casting functions\n",
        "def convert_list_elements(lst):\n",
        "    converted_list = []\n",
        "    for item in lst:\n",
        "        if item.isdigit():  # Convert to integer if it's a number\n",
        "            converted_list.append(int(item))\n",
        "        elif item.replace(\".\", \"\", 1).isdigit():  # Convert to float if it contains a decimal\n",
        "            converted_list.append(float(item))\n",
        "        elif item.lower() in [\"true\", \"false\"]:  # Convert to boolean\n",
        "            converted_list.append(item.lower() == \"true\")\n",
        "        else:\n",
        "            converted_list.append(item)  # Keep as string if no conversion applies\n",
        "    return converted_list\n",
        "\n",
        "# Apply type conversion\n",
        "converted_list = convert_list_elements(data_list)\n",
        "\n",
        "# Print results\n",
        "print(\"Original List:\", data_list)\n",
        "print(\"Converted List:\", converted_list)\n",
        "print(\"Converted Data Types:\", [type(item) for item in converted_list])\n"
      ],
      "metadata": {
        "colab": {
          "base_uri": "https://localhost:8080/"
        },
        "id": "KIeaekSZrJRa",
        "outputId": "da486613-e623-4199-c74d-f0f607244c9d"
      },
      "execution_count": null,
      "outputs": [
        {
          "output_type": "stream",
          "name": "stdout",
          "text": [
            "Original List: ['10', '20.5', 'True', 'False', '30']\n",
            "Converted List: [10, 20.5, True, False, 30]\n",
            "Converted Data Types: [<class 'int'>, <class 'float'>, <class 'bool'>, <class 'bool'>, <class 'int'>]\n"
          ]
        }
      ]
    },
    {
      "cell_type": "markdown",
      "source": [
        "# **Q10. Write a program that checks if a number is positive, negative, or zero**"
      ],
      "metadata": {
        "id": "1zv4CScnrXLe"
      }
    },
    {
      "cell_type": "code",
      "source": [
        "def check_number(number):\n",
        "    if number > 0:\n",
        "        print(f\"{number} is positive.\")\n",
        "    elif number < 0:\n",
        "        print(f\"{number} is negative.\")\n",
        "    else:\n",
        "        print(f\"{number} is zero.\")\n",
        "\n",
        "# Example usage\n",
        "check_number(5)  # Output: 5 is positive.\n",
        "check_number(-3) # Output: -3 is negative.\n",
        "check_number(0)  # Output: 0 is zero.\n"
      ],
      "metadata": {
        "colab": {
          "base_uri": "https://localhost:8080/"
        },
        "id": "yfsgJoOGsRzX",
        "outputId": "24b3abc3-33ba-4a79-91bd-fce2fa32623a"
      },
      "execution_count": null,
      "outputs": [
        {
          "output_type": "stream",
          "name": "stdout",
          "text": [
            "5 is positive.\n",
            "-3 is negative.\n",
            "0 is zero.\n"
          ]
        }
      ]
    },
    {
      "cell_type": "markdown",
      "source": [
        "# **Q11. Write a for loop to print numbers from 1 to 100**"
      ],
      "metadata": {
        "id": "puAllY4lsYyp"
      }
    },
    {
      "cell_type": "code",
      "source": [
        "for num in range(1, 101):\n",
        "    print(num)\n"
      ],
      "metadata": {
        "colab": {
          "base_uri": "https://localhost:8080/"
        },
        "id": "0OKfhzMetNcP",
        "outputId": "6d037a76-c53d-4d74-f549-c598b1e024d3"
      },
      "execution_count": null,
      "outputs": [
        {
          "output_type": "stream",
          "name": "stdout",
          "text": [
            "1\n",
            "2\n",
            "3\n",
            "4\n",
            "5\n",
            "6\n",
            "7\n",
            "8\n",
            "9\n",
            "10\n",
            "11\n",
            "12\n",
            "13\n",
            "14\n",
            "15\n",
            "16\n",
            "17\n",
            "18\n",
            "19\n",
            "20\n",
            "21\n",
            "22\n",
            "23\n",
            "24\n",
            "25\n",
            "26\n",
            "27\n",
            "28\n",
            "29\n",
            "30\n",
            "31\n",
            "32\n",
            "33\n",
            "34\n",
            "35\n",
            "36\n",
            "37\n",
            "38\n",
            "39\n",
            "40\n",
            "41\n",
            "42\n",
            "43\n",
            "44\n",
            "45\n",
            "46\n",
            "47\n",
            "48\n",
            "49\n",
            "50\n",
            "51\n",
            "52\n",
            "53\n",
            "54\n",
            "55\n",
            "56\n",
            "57\n",
            "58\n",
            "59\n",
            "60\n",
            "61\n",
            "62\n",
            "63\n",
            "64\n",
            "65\n",
            "66\n",
            "67\n",
            "68\n",
            "69\n",
            "70\n",
            "71\n",
            "72\n",
            "73\n",
            "74\n",
            "75\n",
            "76\n",
            "77\n",
            "78\n",
            "79\n",
            "80\n",
            "81\n",
            "82\n",
            "83\n",
            "84\n",
            "85\n",
            "86\n",
            "87\n",
            "88\n",
            "89\n",
            "90\n",
            "91\n",
            "92\n",
            "93\n",
            "94\n",
            "95\n",
            "96\n",
            "97\n",
            "98\n",
            "99\n",
            "100\n"
          ]
        }
      ]
    },
    {
      "cell_type": "markdown",
      "source": [
        "# Q**12. Write a Python program to find the sum of all even numbers between 1 and 50**\n",
        "\n"
      ],
      "metadata": {
        "id": "VXPzip8dtSU-"
      }
    },
    {
      "cell_type": "code",
      "source": [
        "# Initialize sum\n",
        "even_sum = 0\n",
        "\n",
        "# Loop through even numbers from 1 to 50\n",
        "for num in range(2, 51, 2):  # Start at 2, go up to 50, step by 2\n",
        "    even_sum += num\n",
        "\n",
        "# Print the result\n",
        "print(\"The sum of all even numbers between 1 and 50 is:\", even_sum)\n"
      ],
      "metadata": {
        "colab": {
          "base_uri": "https://localhost:8080/"
        },
        "id": "NEYw45xaHMk8",
        "outputId": "935368b8-4c9b-4805-c590-e587447467d4"
      },
      "execution_count": null,
      "outputs": [
        {
          "output_type": "stream",
          "name": "stdout",
          "text": [
            "The sum of all even numbers between 1 and 50 is: 650\n"
          ]
        }
      ]
    },
    {
      "cell_type": "markdown",
      "source": [
        "# **Q13. Write a program to reverse a string using a while loop**"
      ],
      "metadata": {
        "id": "029FXxxfHP-0"
      }
    },
    {
      "cell_type": "code",
      "source": [
        "# Function to reverse a string using while loop\n",
        "def reverse_string(s):\n",
        "    reversed_str = \"\"\n",
        "    index = len(s) - 1  # Start from the last character\n",
        "\n",
        "    while index >= 0:\n",
        "        reversed_str += s[index]  # Append character in reverse order\n",
        "        index -= 1  # Move to the previous character\n",
        "\n",
        "    return reversed_str\n",
        "\n",
        "# Example usage\n",
        "example_str1 = \"hello\"\n",
        "example_str2 = \"Python\"\n",
        "\n",
        "print(f\"Original: {example_str1} -> Reversed: {reverse_string(example_str1)}\")\n",
        "print(f\"Original: {example_str2} -> Reversed: {reverse_string(example_str2)}\")\n"
      ],
      "metadata": {
        "colab": {
          "base_uri": "https://localhost:8080/"
        },
        "id": "p4EPEeY1IKDf",
        "outputId": "4c9c76b0-20a6-43b3-b06d-643957a795c2"
      },
      "execution_count": null,
      "outputs": [
        {
          "output_type": "stream",
          "name": "stdout",
          "text": [
            "Original: hello -> Reversed: olleh\n",
            "Original: Python -> Reversed: nohtyP\n"
          ]
        }
      ]
    },
    {
      "cell_type": "markdown",
      "source": [
        "# **Q14**.**Write a Python program to calculate the factorial of a number provided by the user using a while loop. ***"
      ],
      "metadata": {
        "id": "f3Mxtp7BKBXK"
      }
    },
    {
      "cell_type": "code",
      "source": [
        "def factorial_while(n):\n",
        "    if n < 0:\n",
        "        return \"Factorial is not defined for negative numbers.\"\n",
        "    elif n == 0:\n",
        "        return 1\n",
        "    else:\n",
        "        fact = 1\n",
        "        i = 1\n",
        "        while i <= n:\n",
        "            fact *= i\n",
        "            i += 1\n",
        "        return fact\n",
        "\n",
        "# Examples\n",
        "print(factorial_while(5))  # Output: 120\n",
        "print(factorial_while(0))  # Output: 1\n",
        "print(factorial_while(-3)) # Output: Factorial is not defined for negative numbers.\n",
        "print(factorial_while(1))  # Output: 1\n"
      ],
      "metadata": {
        "colab": {
          "base_uri": "https://localhost:8080/"
        },
        "id": "mXaI3DElLHut",
        "outputId": "4047ed59-396b-4342-d174-9830fc8ed861"
      },
      "execution_count": null,
      "outputs": [
        {
          "output_type": "stream",
          "name": "stdout",
          "text": [
            "120\n",
            "1\n",
            "Factorial is not defined for negative numbers.\n",
            "1\n"
          ]
        }
      ]
    }
  ]
}